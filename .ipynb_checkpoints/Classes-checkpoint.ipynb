{
 "cells": [
  {
   "cell_type": "markdown",
   "metadata": {},
   "source": [
    "### Задание 1\n",
    "Напишите функцию, которая возвращает название валюты (поле ‘Name’) с максимальным значением курса с помощью сервиса https://www.cbr-xml-daily.ru/daily_json.js"
   ]
  },
  {
   "cell_type": "code",
   "execution_count": 40,
   "metadata": {},
   "outputs": [
    {
     "name": "stdout",
     "output_type": "stream",
     "text": [
      "Error\n",
      "('Датская крона', 98.5239)\n"
     ]
    }
   ],
   "source": [
    "import requests\n",
    "\n",
    "def get_currency_name_and_value(valute):\n",
    "    r = requests.get(\"https://www.cbr-xml-daily.ru/daily_json.js\")\n",
    "    \n",
    "    if valute in r.json()[\"Valute\"]:\n",
    "        valute_data = r.json()[\"Valute\"][valute]\n",
    "    \n",
    "        if valute_data[\"Value\"] > valute_data[\"Previous\"]:\n",
    "            return valute_data[\"Name\"], valute_data[\"Value\"]\n",
    "        \n",
    "        return valute_data[\"Name\"], valute_data[\"Previous\"]\n",
    "        \n",
    "    return \"Error\"\n",
    "\n",
    "print(get_currency_name_and_value(\"ГВЫ\"))\n",
    "print(get_currency_name_and_value(\"DKK\"))"
   ]
  },
  {
   "cell_type": "markdown",
   "metadata": {},
   "source": [
    "### Задание 2\n",
    "Добавьте в класс Rate параметр diff (со значениями True или False), который в случае значения True в методах eur и usd будет возвращать не курс валюты, а изменение по сравнению в прошлым значением. Считайте, self.diff будет принимать значение True только при возврате значения курса. При отображении всей информации о валюте он не используется."
   ]
  },
  {
   "cell_type": "code",
   "execution_count": 68,
   "metadata": {},
   "outputs": [],
   "source": [
    "class Rate:\n",
    "\n",
    "    def __init__(self, format_='value'):\n",
    "        self.format = format_\n",
    "\n",
    "        # инициализирую diff, в зависимости от формата\n",
    "        if self.format == 'full':\n",
    "            self.diff = False\n",
    "        else:\n",
    "            self.diff = True\n",
    "    \n",
    "    def exchange_rates(self):\n",
    "        self.r = requests.get('https://www.cbr-xml-daily.ru/daily_json.js')\n",
    "        return self.r.json()['Valute']\n",
    "    \n",
    "    def make_format(self, currency):\n",
    "        response = self.exchange_rates()\n",
    "        \n",
    "        if currency in response:\n",
    "            if self.format == 'full':\n",
    "                return response[currency]\n",
    "            \n",
    "            if self.format == 'value':\n",
    "                self.diff = True\n",
    "                return response[currency]['Value']\n",
    "        \n",
    "        return 'Error'\n",
    "    \n",
    "    # новый метод для вывода разницы валют\n",
    "    def get_difference(self, currency):\n",
    "        response = self.exchange_rates()\n",
    "        \n",
    "        if currency in response:\n",
    "            return response[currency]['Value'] - response[currency]['Previous']\n",
    "        \n",
    "        return 'Error'\n",
    "    \n",
    "    def eur(self):\n",
    "        # добавляем проверку diff\n",
    "        if self.diff:\n",
    "            return self.get_difference('EUR')\n",
    "        \n",
    "        return self.make_format('EUR')\n",
    "    \n",
    "    def usd(self):\n",
    "        # добавляем проверку diff\n",
    "        if self.diff:\n",
    "            return self.get_difference('EUR')\n",
    "        \n",
    "        return self.make_format('USD')\n",
    "    \n",
    "    def brl(self):\n",
    "        return self.make_format('BRL')"
   ]
  },
  {
   "cell_type": "code",
   "execution_count": 73,
   "metadata": {
    "scrolled": true
   },
   "outputs": [
    {
     "data": {
      "text/plain": [
       "2.1581999999999937"
      ]
     },
     "execution_count": 73,
     "metadata": {},
     "output_type": "execute_result"
    }
   ],
   "source": [
    "test_cur = Rate('value')\n",
    "test_cur.eur()"
   ]
  },
  {
   "cell_type": "markdown",
   "metadata": {},
   "source": [
    "### Задание 3\n",
    "Напишите класс Designer, который учитывает количество международных премий для дизайнеров (из презентации: \"Повышение на 1 грейд за каждые 7 баллов. Получение международной премии – это +2 балла\"). Считайте, что при выходе на работу сотрудник уже имеет две премии и их количество не меняется со стажем (конечно если хотите это можно вручную менять). Выполните проверку для 20 аккредитаций дизайнера Елены."
   ]
  },
  {
   "cell_type": "code",
   "execution_count": 75,
   "metadata": {},
   "outputs": [],
   "source": [
    "class Employee:\n",
    "    def __init__(self, name, seniority):\n",
    "        self.name = name\n",
    "        self.seniority = seniority\n",
    "        \n",
    "        self.grade = 1\n",
    "    \n",
    "    def grade_up(self):\n",
    "        \"\"\"Повышает уровень сотрудника\"\"\"\n",
    "        self.grade += 1\n",
    "    \n",
    "    def publish_grade(self):\n",
    "        \"\"\"Публикация результатов аккредитации сотрудников\"\"\"\n",
    "        print(self.name, self.grade)\n",
    "    \n",
    "    def check_if_it_is_time_for_upgrade(self):\n",
    "        pass"
   ]
  },
  {
   "cell_type": "code",
   "execution_count": 74,
   "metadata": {},
   "outputs": [],
   "source": [
    "class Developer(Employee):\n",
    "    def __init__(self, name, seniority):\n",
    "        super().__init__(name, seniority)\n",
    "    \n",
    "    def check_if_it_is_time_for_upgrade(self):\n",
    "        # для каждой аккредитации увеличиваем счетчик на 1\n",
    "        # пока считаем, что все разработчики проходят аккредитацию\n",
    "        self.seniority += 1\n",
    "        \n",
    "        # условие повышения сотрудника из презентации\n",
    "        if self.seniority % 5 == 0:\n",
    "            self.grade_up()\n",
    "        \n",
    "        # публикация результатов\n",
    "        return self.publish_grade()\n",
    "\n",
    "# alex = Developer('Александр', 0)"
   ]
  },
  {
   "cell_type": "code",
   "execution_count": 84,
   "metadata": {},
   "outputs": [],
   "source": [
    "class Designer(Employee):\n",
    "    def __init__(self, name, seniority, awards):\n",
    "        self.awards = awards\n",
    "        super().__init__(name, seniority)\n",
    "    \n",
    "    def check_if_it_is_time_for_upgrade(self):\n",
    "        self.seniority += 1\n",
    "        \n",
    "        if (self.seniority + self.awards) % 7 == 0:\n",
    "            self.grade_up()\n",
    "        \n",
    "        return self.publish_grade()"
   ]
  },
  {
   "cell_type": "code",
   "execution_count": 85,
   "metadata": {},
   "outputs": [],
   "source": [
    "elena = Designer('Елена', 0, 2)"
   ]
  },
  {
   "cell_type": "code",
   "execution_count": 86,
   "metadata": {},
   "outputs": [
    {
     "name": "stdout",
     "output_type": "stream",
     "text": [
      "Елена 1\n",
      "Елена 1\n",
      "Елена 1\n",
      "Елена 1\n",
      "Елена 2\n",
      "Елена 2\n",
      "Елена 2\n",
      "Елена 2\n",
      "Елена 2\n",
      "Елена 2\n",
      "Елена 2\n",
      "Елена 3\n",
      "Елена 3\n",
      "Елена 3\n",
      "Елена 3\n",
      "Елена 3\n",
      "Елена 3\n",
      "Елена 3\n",
      "Елена 4\n",
      "Елена 4\n"
     ]
    }
   ],
   "source": [
    "for i in range(20):\n",
    "    elena.check_if_it_is_time_for_upgrade()"
   ]
  },
  {
   "cell_type": "code",
   "execution_count": null,
   "metadata": {},
   "outputs": [],
   "source": []
  }
 ],
 "metadata": {
  "kernelspec": {
   "display_name": "Python 3",
   "language": "python",
   "name": "python3"
  },
  "language_info": {
   "codemirror_mode": {
    "name": "ipython",
    "version": 3
   },
   "file_extension": ".py",
   "mimetype": "text/x-python",
   "name": "python",
   "nbconvert_exporter": "python",
   "pygments_lexer": "ipython3",
   "version": "3.7.1"
  }
 },
 "nbformat": 4,
 "nbformat_minor": 2
}
