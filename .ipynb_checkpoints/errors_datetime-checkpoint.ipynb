{
 "cells": [
  {
   "cell_type": "markdown",
   "metadata": {},
   "source": [
    "### Задание 1\n",
    "Напишите функцию date_range, которая возвращает список дней между датами start_date и end_date. Даты должны вводиться в формате YYYY-MM-DD."
   ]
  },
  {
   "cell_type": "code",
   "execution_count": 8,
   "metadata": {},
   "outputs": [
    {
     "name": "stdout",
     "output_type": "stream",
     "text": [
      "Введите дату ОТ в формате YYYY-MM-DD 1994-03-18\n",
      "Введите дату ДО в формате YYYY-MM-DD 1994-04-03\n"
     ]
    },
    {
     "data": {
      "text/plain": [
       "['1994-03-19',\n",
       " '1994-03-20',\n",
       " '1994-03-21',\n",
       " '1994-03-22',\n",
       " '1994-03-23',\n",
       " '1994-03-24',\n",
       " '1994-03-25',\n",
       " '1994-03-26',\n",
       " '1994-03-27',\n",
       " '1994-03-28',\n",
       " '1994-03-29',\n",
       " '1994-03-30',\n",
       " '1994-03-31',\n",
       " '1994-04-01',\n",
       " '1994-04-02']"
      ]
     },
     "execution_count": 8,
     "metadata": {},
     "output_type": "execute_result"
    }
   ],
   "source": [
    "from datetime import datetime\n",
    "from datetime import timedelta\n",
    "\n",
    "def date_range():\n",
    "    date_list = []\n",
    "    start_date = input(\"Введите дату ОТ в формате YYYY-MM-DD \")\n",
    "    end_date = input(\"Введите дату ДО в формате YYYY-MM-DD \")\n",
    "    \n",
    "    start_date_dt = datetime.strptime(start_date, '%Y-%m-%d') + timedelta(days=1)\n",
    "    end_date_dt = datetime.strptime(end_date, '%Y-%m-%d')\n",
    "    \n",
    "    while start_date_dt < end_date_dt:\n",
    "        date_list.append(start_date_dt.strftime('%Y-%m-%d'))\n",
    "        start_date_dt += timedelta(days=1)\n",
    "    \n",
    "    return(date_list)\n",
    "\n",
    "date_range()"
   ]
  },
  {
   "cell_type": "markdown",
   "metadata": {},
   "source": [
    "### Задание 2\n",
    "Дополните функцию из первого задания проверкой на корректность дат. В случае неверного формата или если start_date > end_date должен возвращаться пустой список."
   ]
  },
  {
   "cell_type": "code",
   "execution_count": 11,
   "metadata": {},
   "outputs": [
    {
     "name": "stdout",
     "output_type": "stream",
     "text": [
      "Введите дату ОТ в формате YYYY-MM-DD 1994-03-18\n",
      "Введите дату ДО в формате YYYY-MM-DD 1994-03-03\n"
     ]
    },
    {
     "data": {
      "text/plain": [
       "[]"
      ]
     },
     "execution_count": 11,
     "metadata": {},
     "output_type": "execute_result"
    }
   ],
   "source": [
    "def date_range():\n",
    "    date_list = []\n",
    "    start_date = input(\"Введите дату ОТ в формате YYYY-MM-DD \")\n",
    "    end_date = input(\"Введите дату ДО в формате YYYY-MM-DD \")\n",
    "    \n",
    "    try:\n",
    "        start_date_dt = datetime.strptime(start_date, '%Y-%m-%d') + timedelta(days=1)\n",
    "        end_date_dt = datetime.strptime(end_date, '%Y-%m-%d')\n",
    "        \n",
    "        if start_date_dt < end_date_dt:\n",
    "            while start_date_dt < end_date_dt:\n",
    "                date_list.append(start_date_dt.strftime('%Y-%m-%d'))\n",
    "                start_date_dt += timedelta(days=1)\n",
    "            return(date_list)\n",
    "        else:\n",
    "            return(date_list)\n",
    "    except:\n",
    "        return(date_list)\n",
    "\n",
    "date_range()"
   ]
  },
  {
   "cell_type": "markdown",
   "metadata": {},
   "source": [
    "### Задание 3\n",
    "Дан поток дат в формате YYYY-MM-DD, в которых встречаются некорректные значения:\n",
    "stream = [‘2018-04-02’, ‘2018-02-29’, ‘2018-19-02’]\n",
    "\n",
    "Напишите функцию, которая проверяет эти даты на корректность. Т.е. для каждой даты возвращает True (дата корректна) или False (некорректная дата)."
   ]
  },
  {
   "cell_type": "code",
   "execution_count": 20,
   "metadata": {
    "scrolled": true
   },
   "outputs": [
    {
     "name": "stdout",
     "output_type": "stream",
     "text": [
      "2018-04-02 True\n",
      "2018-02-29 False\n",
      "2018-19-02 False\n"
     ]
    }
   ],
   "source": [
    "def check_date(date_list):\n",
    "    for date in date_list:\n",
    "        try:\n",
    "            datetime.strptime(date, '%Y-%m-%d')\n",
    "            print(date, True)\n",
    "        except:\n",
    "            print(date, False)\n",
    "\n",
    "stream = [\"2018-04-02\", \"2018-02-29\", \"2018-19-02\"]\n",
    "\n",
    "check_date(stream)"
   ]
  },
  {
   "cell_type": "markdown",
   "metadata": {},
   "source": [
    "### Задание 3\n",
    "1. Что значит ошибка list index out of range?\n",
    "2. Почему при первом запуске функция работает корректно, а при втором - нет?"
   ]
  },
  {
   "cell_type": "code",
   "execution_count": 32,
   "metadata": {},
   "outputs": [
    {
     "data": {
      "text/plain": [
       "'A101'"
      ]
     },
     "execution_count": 32,
     "metadata": {},
     "output_type": "execute_result"
    }
   ],
   "source": [
    "DEFAULT_USER_COUNT = 3\n",
    "\n",
    "def delete_and_return_last_user(region, default_list=[\"A100\", \"A101\", \"A102\"]):\n",
    "    \"\"\"\n",
    "    Удаляет из списка default_list последнего пользователя\n",
    "    и возвращает ID нового последнего пользователя.\n",
    "    \"\"\"\n",
    "    element_to_delete = default_list[-1]\n",
    "    default_list.remove(element_to_delete)\n",
    "\n",
    "    return default_list[DEFAULT_USER_COUNT-2]\n",
    "\n",
    "delete_and_return_last_user(1)"
   ]
  },
  {
   "cell_type": "markdown",
   "metadata": {},
   "source": [
    "`list index out of range` говорит о том, что в списке, к которому мы обращаемся, нет элемента с таким индексом.\n",
    "Происходит это потому, что в функции не меняется счётчик (DEFAULT_USER_COUNT) и в return индекс возвращаемого элемента всегда будет 1.\n",
    "При втором вызове функции, мы удаляем этот элемент и в списке остаётся только одирн элемент, с индексом 0."
   ]
  },
  {
   "cell_type": "code",
   "execution_count": null,
   "metadata": {},
   "outputs": [],
   "source": []
  }
 ],
 "metadata": {
  "kernelspec": {
   "display_name": "Python 3",
   "language": "python",
   "name": "python3"
  },
  "language_info": {
   "codemirror_mode": {
    "name": "ipython",
    "version": 3
   },
   "file_extension": ".py",
   "mimetype": "text/x-python",
   "name": "python",
   "nbconvert_exporter": "python",
   "pygments_lexer": "ipython3",
   "version": "3.7.1"
  }
 },
 "nbformat": 4,
 "nbformat_minor": 2
}
