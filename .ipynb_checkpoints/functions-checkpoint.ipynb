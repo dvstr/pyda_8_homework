{
 "cells": [
  {
   "cell_type": "markdown",
   "metadata": {},
   "source": [
    "Вы работаете секретарем и вам постоянно приходят различные документы. Вы должны быть очень внимательны, чтобы не потерять ни один документ. Каталог документов хранится в следующем виде:"
   ]
  },
  {
   "cell_type": "code",
   "execution_count": 131,
   "metadata": {},
   "outputs": [],
   "source": [
    "documents = [\n",
    "    {'type': 'passport', 'number': '2207 876234', 'name': 'Василий Гупкин'},\n",
    "    {'type': 'invoice', 'number': '11-2', 'name': 'Геннадий Покемонов'},\n",
    "    {'type': 'insurance', 'number': '10006', 'name': 'Аристарх Павлов'}\n",
    "]"
   ]
  },
  {
   "cell_type": "markdown",
   "metadata": {},
   "source": [
    "\n",
    "Перечень полок, на которых находятся документы хранится в следующем виде:"
   ]
  },
  {
   "cell_type": "code",
   "execution_count": 132,
   "metadata": {},
   "outputs": [],
   "source": [
    "directories = {\n",
    "    '1': ['2207 876234', '11-2'],\n",
    "    '2': ['10006'],\n",
    "    '3': []\n",
    "}"
   ]
  },
  {
   "cell_type": "markdown",
   "metadata": {},
   "source": [
    "Необходимо реализовать пользовательские команды (внимание! это не название функций, которые должны быть выразительными, а команды, которые вводит пользователь, чтобы получить необходимый результат):\n",
    "  \n",
    "- p – people – команда, которая спросит номер документа и выведет имя человека, которому он принадлежит;  \n",
    "- s – shelf – команда, которая спросит номер документа и выведет номер полки, на которой он находится  \n",
    "Правильно обработайте ситуацию, когда пользователь будет вводить несуществующий документ.\n",
    "- l – list – команда, которая выведет список всех документов в формате   \n",
    "**passport \"2207 876234\" \"Василий Гупкин\"**  \n",
    "- as – add shelf – команда, которая спросит номер новой полки и добавит ее в перечень\n",
    "- d – delete – команда, которая спросит номер документа и удалит его из каталога и из перечня полок. Предусмотрите сценарий, когда пользователь вводит несуществующий документ;  \n",
    "- m – move – команда, которая спросит номер документа и целевую полку и переместит его с текущей полки на целевую. Корректно обработайте кейсы, когда пользователь пытается переместить несуществующий документ или переместить документ на несуществующую полку;  \n",
    "- a – add – команда, которая добавит новый документ в каталог и в перечень полок, спросив его номер, тип, имя владельца и номер полки, на котором он будет храниться."
   ]
  },
  {
   "cell_type": "code",
   "execution_count": 133,
   "metadata": {},
   "outputs": [
    {
     "name": "stdout",
     "output_type": "stream",
     "text": [
      "Введите номер документа 11-2\n",
      "Человек, которого вы ищите - Геннадий Покемонов\n"
     ]
    }
   ],
   "source": [
    "def print_name():\n",
    "    number = input(\"Введите номер документа \")\n",
    "    result = \"Ничего не найдено\"\n",
    "    \n",
    "    for human in documents:\n",
    "        if human[\"number\"] == number:\n",
    "            result = f\"Человек, которого вы ищите - {human['name']}\"\n",
    "    \n",
    "    print(result)\n",
    "\n",
    "print_name()"
   ]
  },
  {
   "cell_type": "code",
   "execution_count": 134,
   "metadata": {},
   "outputs": [
    {
     "name": "stdout",
     "output_type": "stream",
     "text": [
      "Введите номер документа 10006\n",
      "Вам нужна полка 2\n"
     ]
    }
   ],
   "source": [
    "def print_number_of_shelf():\n",
    "    number = input(\"Введите номер документа \")\n",
    "    result = \"Ничего не найдено\"\n",
    "    \n",
    "    for shelf in directories.items():\n",
    "        if number in shelf[1]:\n",
    "            result = f\"Вам нужна полка {shelf[0]}\"\n",
    "    \n",
    "    print(result)\n",
    "\n",
    "print_number_of_shelf()"
   ]
  },
  {
   "cell_type": "code",
   "execution_count": 135,
   "metadata": {},
   "outputs": [
    {
     "name": "stdout",
     "output_type": "stream",
     "text": [
      "**passport \"2207 876234\" \"Василий Гупкин\"**\n",
      "**passport \"11-2\" \"Геннадий Покемонов\"**\n",
      "**passport \"10006\" \"Аристарх Павлов\"**\n"
     ]
    }
   ],
   "source": [
    "def get_doc_list():\n",
    "    for human in documents:\n",
    "        number = human['number']\n",
    "        name = human['name']\n",
    "        \n",
    "        print(f'**passport \"{number}\" \"{name}\"**')\n",
    "\n",
    "get_doc_list()"
   ]
  },
  {
   "cell_type": "code",
   "execution_count": 136,
   "metadata": {
    "scrolled": true
   },
   "outputs": [
    {
     "name": "stdout",
     "output_type": "stream",
     "text": [
      "Введите номер полки 4\n",
      "Полка добавлена.\n"
     ]
    }
   ],
   "source": [
    "def add_new_shelf():\n",
    "    number = input(\"Введите номер полки \")\n",
    "    \n",
    "    if number in directories.keys():\n",
    "        print(\"Такая полка уже есть\")\n",
    "    else:\n",
    "        directories[number] = []\n",
    "        print(\"Полка добавлена.\")\n",
    "\n",
    "add_new_shelf()"
   ]
  },
  {
   "cell_type": "code",
   "execution_count": 154,
   "metadata": {},
   "outputs": [],
   "source": [
    "# проверка наличия полки\n",
    "def checking_shelf(number):\n",
    "    if number in directories.keys():\n",
    "        return True\n",
    "    else:\n",
    "        return False\n",
    "\n",
    "\n",
    "# проверка наличия документа\n",
    "def checking_docs(doc_number):\n",
    "    new_dir = []\n",
    "    \n",
    "    for i in directories.values():\n",
    "        new_dir += i\n",
    "\n",
    "    if doc_number in new_dir:\n",
    "        return True\n",
    "    else:\n",
    "        return False\n"
   ]
  },
  {
   "cell_type": "code",
   "execution_count": 138,
   "metadata": {
    "scrolled": false
   },
   "outputs": [
    {
     "name": "stdout",
     "output_type": "stream",
     "text": [
      "Введите номер документа 11-2\n",
      "[{'type': 'passport', 'number': '2207 876234', 'name': 'Василий Гупкин'}, {'type': 'insurance', 'number': '10006', 'name': 'Аристарх Павлов'}]\n",
      "{'1': ['2207 876234'], '2': ['10006'], '3': [], '4': []}\n"
     ]
    }
   ],
   "source": [
    "def del_some_doc():\n",
    "    number = input(\"Введите номер документа \")\n",
    "    \n",
    "    if checking_docs(number):\n",
    "        for i in range(0, (len(documents) - 1)):\n",
    "            if documents[i]['number'] == number:\n",
    "                del(documents[i])\n",
    "        for shelf in directories.items():\n",
    "            if number in shelf[1]:\n",
    "                shelf[1].remove(number)\n",
    "    else:\n",
    "        print(\"Такого документа нет\")\n",
    "\n",
    "del_some_doc()"
   ]
  },
  {
   "cell_type": "markdown",
   "metadata": {},
   "source": [
    "m – move – команда, которая спросит номер документа и целевую полку и переместит его с текущей полки на целевую.\n",
    "Корректно обработайте кейсы, когда пользователь пытается переместить несуществующий документ или переместить документ на несуществующую полку;"
   ]
  },
  {
   "cell_type": "code",
   "execution_count": 164,
   "metadata": {},
   "outputs": [
    {
     "name": "stdout",
     "output_type": "stream",
     "text": [
      "Введите номер документа 2207 876234\n",
      "Введите номер полки 1\n",
      "Документ перемещён\n"
     ]
    }
   ],
   "source": [
    "def move_doc():\n",
    "    number = input(\"Введите номер документа \")\n",
    "    new_shelf = input(\"Введите номер полки \")\n",
    "    \n",
    "    if checking_docs(number) and checking_shelf(new_shelf):\n",
    "        if number in directories[new_shelf]:\n",
    "            print(\"Документ уже на этой полке\") \n",
    "        else:\n",
    "            for shelf in directories.items():\n",
    "                if number in shelf[1]:\n",
    "                    shelf[1].remove(number)\n",
    "\n",
    "            directories[new_shelf].append(number)\n",
    "            print(\"Документ перемещён\")\n",
    "    else:\n",
    "        print(\"Такого документа, или указанной полки - не существует\")\n",
    "\n",
    "move_doc()"
   ]
  },
  {
   "cell_type": "code",
   "execution_count": 169,
   "metadata": {},
   "outputs": [
    {
     "name": "stdout",
     "output_type": "stream",
     "text": [
      "Введите номер документа 583-13\n",
      "Введите тип документа licence\n",
      "Введите имя владелца документа Tom Ford\n",
      "Введите номер полки 3\n"
     ]
    }
   ],
   "source": [
    "def add_new_doc():\n",
    "    number = input(\"Введите номер документа \")\n",
    "    doc_type = input(\"Введите тип документа \")\n",
    "    doc_owner = input(\"Введите имя владелца документа \")\n",
    "    new_shelf = input(\"Введите номер полки \")\n",
    "    \n",
    "    documents.append({'type': doc_type, 'number': number, 'name': doc_owner})\n",
    "    directories[new_shelf].append(number)\n",
    "\n",
    "add_new_doc()"
   ]
  }
 ],
 "metadata": {
  "kernelspec": {
   "display_name": "Python 3",
   "language": "python",
   "name": "python3"
  },
  "language_info": {
   "codemirror_mode": {
    "name": "ipython",
    "version": 3
   },
   "file_extension": ".py",
   "mimetype": "text/x-python",
   "name": "python",
   "nbconvert_exporter": "python",
   "pygments_lexer": "ipython3",
   "version": "3.7.1"
  }
 },
 "nbformat": 4,
 "nbformat_minor": 2
}
