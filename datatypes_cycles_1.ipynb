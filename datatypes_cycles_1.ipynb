{
 "cells": [
  {
   "cell_type": "markdown",
   "metadata": {},
   "source": [
    "**Задача 1**. Дано слово из латинских букв. Напишите скрипт, который выводит на экран букву из середины слова (если число букв нечетное). Если букв четное число, то на экран выводятся две буквы из середины.  \n",
    "\n",
    "Пример: для 'test' должно выводится 'es', для 'testing' - 't'"
   ]
  },
  {
   "cell_type": "code",
   "execution_count": 17,
   "metadata": {},
   "outputs": [
    {
     "name": "stdout",
     "output_type": "stream",
     "text": [
      "Введине любое слово: lhjdf\n",
      "j\n"
     ]
    }
   ],
   "source": [
    "some_string = input(\"Введине любое слово: \")\n",
    "ind = len(some_string)\n",
    "\n",
    "if ind % 2 != 0:\n",
    "    min_ind = int((ind - 1) / 2)\n",
    "    max_ind = int((ind + 1) / 2)\n",
    "else:\n",
    "    min_ind = int(ind / 2 - 1)\n",
    "    max_ind = int(ind / 2 + 1)\n",
    "\n",
    "print(some_string[min_ind:max_ind])"
   ]
  },
  {
   "cell_type": "code",
   "execution_count": 22,
   "metadata": {},
   "outputs": [
    {
     "name": "stdout",
     "output_type": "stream",
     "text": [
      "i\n"
     ]
    }
   ],
   "source": [
    "# короткий вариант с учётом округления к целому числу при переводе из float в int\n",
    "\n",
    "x = \"stringd\"\n",
    "a = int(len(x) / 2)\n",
    "\n",
    "if len(x) % 2 == 0:\n",
    "    print(x[a-1:a+1])\n",
    "else:\n",
    "    print(x[a])"
   ]
  },
  {
   "cell_type": "markdown",
   "metadata": {},
   "source": [
    "**Задача 2**. Мы делаем MVP dating-сервиса, и у нас есть список парней и девушек (их число может варьироваться):"
   ]
  },
  {
   "cell_type": "code",
   "execution_count": 43,
   "metadata": {},
   "outputs": [],
   "source": [
    "boys = ['Peter', 'Alex', 'John', 'Arthur', 'Richard', 'Nick']\n",
    "girls = ['Kate', 'Liza', 'Kira', 'Emma', 'Trisha', 'Vera']"
   ]
  },
  {
   "cell_type": "markdown",
   "metadata": {},
   "source": [
    "Выдвигаем гипотезу: лучшие рекомендации мы получим, если просто отсортируем имена по алфавиту и познакомим людей с одинаковыми индексами после сортировки! \"Познакомить\" пары нам поможет функция zip, а в цикле распакуем zip-объект и выведем информацию в виде:\n",
    "\n",
    "Идеальные пары:  \n",
    "Alex и Emma  \n",
    "Arthur и Kate  \n",
    "John и Kira  \n",
    "Peter и Liza  \n",
    "Richard и Trisha  "
   ]
  },
  {
   "cell_type": "markdown",
   "metadata": {},
   "source": [
    "**Внимание! Если количество людей в списках будет не совпадать, то мы никого знакомить не будет и выведем пользователю предупреждение, что кто-то может остаться без пары!**"
   ]
  },
  {
   "cell_type": "code",
   "execution_count": 46,
   "metadata": {},
   "outputs": [
    {
     "name": "stdout",
     "output_type": "stream",
     "text": [
      "Идеальные пары:\n",
      "Alex и Emma\n",
      "Arthur и Kate\n",
      "John и Kira\n",
      "Nick и Liza\n",
      "Peter и Trisha\n",
      "Richard и Vera\n"
     ]
    }
   ],
   "source": [
    "if len(boys) != len(girls):\n",
    "    print(\"Sorry, someone can stay alone\")\n",
    "else:\n",
    "    boys.sort()\n",
    "    girls.sort()\n",
    "\n",
    "    print(\"Идеальные пары:\")\n",
    "    for boy, girl in zip(boys, girls):\n",
    "        print(f\"{boy} и {girl}\")"
   ]
  },
  {
   "cell_type": "markdown",
   "metadata": {},
   "source": [
    "**Задача 3**. У нас есть список, содержащий информацию о среднедневной температуре в Фаренгейтах за недельный период по странам.\n",
    "Необходимо написать код, который рассчитает среднюю температуру за неделю в Цельсиях для каждой страны."
   ]
  },
  {
   "cell_type": "code",
   "execution_count": 5,
   "metadata": {},
   "outputs": [],
   "source": [
    "countries_temperature = [\n",
    " ['Thailand', [75.2, 77, 78.8, 73.4, 68, 75.2, 77]],\n",
    " ['Germany', [57.2, 55.4, 59, 59, 53.6, 55.4, 57.2]],\n",
    " ['Russia', [35.6, 37.4, 39.2, 41, 42.8, 39.2, 35.6]],\n",
    " ['Poland', [50, 50, 53.6, 57.2, 55.4, 55.4, 51.8]],\n",
    "]"
   ]
  },
  {
   "cell_type": "code",
   "execution_count": 6,
   "metadata": {},
   "outputs": [
    {
     "name": "stdout",
     "output_type": "stream",
     "text": [
      "Средняя температура за неделю в Thailand составляет 23.9 по цельсию.\n",
      "Средняя температура за неделю в Germany составляет 13.7 по цельсию.\n",
      "Средняя температура за неделю в Russia составляет 3.7 по цельсию.\n",
      "Средняя температура за неделю в Poland составляет 11.9 по цельсию.\n"
     ]
    }
   ],
   "source": [
    "# (182 °F − 32) × 5/9 = 83,333 °C\n",
    "\n",
    "for country, temp in countries_temperature:\n",
    "    celsius = (sum(temp) / 7 - 32) * 5 / 9\n",
    "    print(f\"Средняя температура за неделю в {country} составляет {celsius:.1f} по цельсию.\")"
   ]
  },
  {
   "cell_type": "markdown",
   "metadata": {},
   "source": [
    "**Задача 4.** Дан поток логов по количеству просмотренных страниц для каждого пользователя. Список отсортирован по ID пользователя. Вам необходимо написать алгоритм, который считает среднее значение просмотров на пользователя. \n",
    "Т. е. надо посчитать отношение суммы всех просмотров к количеству уникальных пользователей."
   ]
  },
  {
   "cell_type": "code",
   "execution_count": 7,
   "metadata": {},
   "outputs": [],
   "source": [
    "stream = [\n",
    "    '2018-01-01,user1,3',\n",
    "    '2018-01-07,user1,4',\n",
    "    '2018-03-29,user1,1',\n",
    "    '2018-04-04,user1,13',\n",
    "    '2018-01-05,user2,7',\n",
    "    '2018-06-14,user3,4',\n",
    "    '2018-07-02,user3,10',\n",
    "    '2018-03-21,user4,19',\n",
    "    '2018-03-22,user4,4',\n",
    "    '2018-04-22,user4,8',\n",
    "    '2018-05-03,user4,9',\n",
    "    '2018-05-11,user4,11',\n",
    "]"
   ]
  },
  {
   "cell_type": "code",
   "execution_count": 27,
   "metadata": {},
   "outputs": [
    {
     "name": "stdout",
     "output_type": "stream",
     "text": [
      "[['2018-01-01', 'user1', '3']]\n",
      "[['2018-01-01', 'user1', '3'], ['2018-01-07', 'user1', '4']]\n",
      "[['2018-01-01', 'user1', '3'], ['2018-01-07', 'user1', '4'], ['2018-03-29', 'user1', '1']]\n",
      "[['2018-01-01', 'user1', '3'], ['2018-01-07', 'user1', '4'], ['2018-03-29', 'user1', '1'], ['2018-04-04', 'user1', '13']]\n",
      "[['2018-01-01', 'user1', '3'], ['2018-01-07', 'user1', '4'], ['2018-03-29', 'user1', '1'], ['2018-04-04', 'user1', '13'], ['2018-01-05', 'user2', '7']]\n",
      "[['2018-01-01', 'user1', '3'], ['2018-01-07', 'user1', '4'], ['2018-03-29', 'user1', '1'], ['2018-04-04', 'user1', '13'], ['2018-01-05', 'user2', '7'], ['2018-06-14', 'user3', '4']]\n",
      "[['2018-01-01', 'user1', '3'], ['2018-01-07', 'user1', '4'], ['2018-03-29', 'user1', '1'], ['2018-04-04', 'user1', '13'], ['2018-01-05', 'user2', '7'], ['2018-06-14', 'user3', '4'], ['2018-07-02', 'user3', '10']]\n",
      "[['2018-01-01', 'user1', '3'], ['2018-01-07', 'user1', '4'], ['2018-03-29', 'user1', '1'], ['2018-04-04', 'user1', '13'], ['2018-01-05', 'user2', '7'], ['2018-06-14', 'user3', '4'], ['2018-07-02', 'user3', '10'], ['2018-03-21', 'user4', '19']]\n",
      "[['2018-01-01', 'user1', '3'], ['2018-01-07', 'user1', '4'], ['2018-03-29', 'user1', '1'], ['2018-04-04', 'user1', '13'], ['2018-01-05', 'user2', '7'], ['2018-06-14', 'user3', '4'], ['2018-07-02', 'user3', '10'], ['2018-03-21', 'user4', '19'], ['2018-03-22', 'user4', '4']]\n",
      "[['2018-01-01', 'user1', '3'], ['2018-01-07', 'user1', '4'], ['2018-03-29', 'user1', '1'], ['2018-04-04', 'user1', '13'], ['2018-01-05', 'user2', '7'], ['2018-06-14', 'user3', '4'], ['2018-07-02', 'user3', '10'], ['2018-03-21', 'user4', '19'], ['2018-03-22', 'user4', '4'], ['2018-04-22', 'user4', '8']]\n",
      "[['2018-01-01', 'user1', '3'], ['2018-01-07', 'user1', '4'], ['2018-03-29', 'user1', '1'], ['2018-04-04', 'user1', '13'], ['2018-01-05', 'user2', '7'], ['2018-06-14', 'user3', '4'], ['2018-07-02', 'user3', '10'], ['2018-03-21', 'user4', '19'], ['2018-03-22', 'user4', '4'], ['2018-04-22', 'user4', '8'], ['2018-05-03', 'user4', '9']]\n",
      "[['2018-01-01', 'user1', '3'], ['2018-01-07', 'user1', '4'], ['2018-03-29', 'user1', '1'], ['2018-04-04', 'user1', '13'], ['2018-01-05', 'user2', '7'], ['2018-06-14', 'user3', '4'], ['2018-07-02', 'user3', '10'], ['2018-03-21', 'user4', '19'], ['2018-03-22', 'user4', '4'], ['2018-04-22', 'user4', '8'], ['2018-05-03', 'user4', '9'], ['2018-05-11', 'user4', '11']]\n",
      "Среднее кол-во сессий на пользователя равно 23.25\n"
     ]
    }
   ],
   "source": [
    "logs = []\n",
    "\n",
    "for i in stream:\n",
    "    logs.append(i.split(','))\n",
    "    print(logs)\n",
    "\n",
    "user_count = 1\n",
    "user = logs[0][1]\n",
    "session_count = 0\n",
    "\n",
    "# или получить session_count сразу:\n",
    "# session_count = sum([int(log[2]) for log in logs])\n",
    "\n",
    "for log in logs:\n",
    "    if user != log[1]:\n",
    "        user_count +=1\n",
    "        user = log[1]\n",
    "\n",
    "    session_count += int(log[2])\n",
    "    \n",
    "print(\"Среднее кол-во сессий на пользователя равно\", session_count / user_count)"
   ]
  },
  {
   "cell_type": "markdown",
   "metadata": {},
   "source": [
    "**Задача 5**. Дана статистика рекламных кампаний по дням. Напишите алгоритм, который по паре дата-кампания ищет значение численного столбца. \n",
    "Т. е. для даты '2018-01-01' и 'google' нужно получить число 25. \n",
    "Считайте, что все комбинации дата-кампания уникальны."
   ]
  },
  {
   "cell_type": "code",
   "execution_count": 75,
   "metadata": {},
   "outputs": [],
   "source": [
    "stats = [\n",
    "    ['2018-01-01', 'google', 25],\n",
    "    ['2018-01-01', 'yandex', 65],\n",
    "    ['2018-01-01', 'market', 89],\n",
    "    ['2018-01-02', 'google', 574],\n",
    "    ['2018-01-02', 'yandex', 249],\n",
    "    ['2018-01-02', 'market', 994],\n",
    "    ['2018-01-03', 'google', 1843],\n",
    "    ['2018-01-03', 'yandex', 1327],\n",
    "    ['2018-01-03', 'market', 1764],\n",
    "]"
   ]
  },
  {
   "cell_type": "code",
   "execution_count": 80,
   "metadata": {},
   "outputs": [
    {
     "name": "stdout",
     "output_type": "stream",
     "text": [
      "994\n"
     ]
    }
   ],
   "source": [
    "date = \"2018-01-02\"\n",
    "campaign = \"market\"\n",
    "\n",
    "for stat in stats:\n",
    "    if date == stat[0] and campaign == stat[1]:\n",
    "        print(stat[2])"
   ]
  },
  {
   "cell_type": "markdown",
   "metadata": {},
   "source": [
    "**Задача 6**. Дан список вида:"
   ]
  },
  {
   "cell_type": "code",
   "execution_count": 81,
   "metadata": {},
   "outputs": [],
   "source": [
    "data = [\n",
    "    [13, 25, 23, 34],\n",
    "    [45, 32, 44, 47],\n",
    "    [12, 33, 23, 95],\n",
    "    [13, 53, 34, 35]\n",
    "]"
   ]
  },
  {
   "cell_type": "markdown",
   "metadata": {},
   "source": [
    "Напишите код, который будет вычислять сумму элементов на диагонали. Т. е. 13+32+23+35.  \n",
    "Список может быть любой длины, но всегда является \"квадратным\" (количество элементов во вложенных списках равно их количеству)."
   ]
  },
  {
   "cell_type": "code",
   "execution_count": 82,
   "metadata": {},
   "outputs": [
    {
     "name": "stdout",
     "output_type": "stream",
     "text": [
      "103\n"
     ]
    }
   ],
   "source": [
    "counter = 0\n",
    "result = 0\n",
    "\n",
    "for row in data:\n",
    "    result += row[counter]\n",
    "    counter += 1\n",
    "\n",
    "print(result)"
   ]
  },
  {
   "cell_type": "code",
   "execution_count": null,
   "metadata": {},
   "outputs": [],
   "source": []
  }
 ],
 "metadata": {
  "kernelspec": {
   "display_name": "Python 3",
   "language": "python",
   "name": "python3"
  },
  "language_info": {
   "codemirror_mode": {
    "name": "ipython",
    "version": 3
   },
   "file_extension": ".py",
   "mimetype": "text/x-python",
   "name": "python",
   "nbconvert_exporter": "python",
   "pygments_lexer": "ipython3",
   "version": "3.7.1"
  }
 },
 "nbformat": 4,
 "nbformat_minor": 2
}
